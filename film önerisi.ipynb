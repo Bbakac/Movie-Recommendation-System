{
 "cells": [
  {
   "cell_type": "code",
   "execution_count": 2,
   "id": "b525a7ac",
   "metadata": {},
   "outputs": [],
   "source": [
    "import pandas as pd\n",
    "\n",
    "movies = pd.read_csv('/Users/berkaybakac/Downloads/movie.csv')\n",
    "ratings = pd.read_csv('/Users/berkaybakac/Downloads/rating.csv')\n"
   ]
  },
  {
   "cell_type": "code",
   "execution_count": 3,
   "id": "3e21eecb",
   "metadata": {},
   "outputs": [
    {
     "name": "stdout",
     "output_type": "stream",
     "text": [
      "movieId    0\n",
      "title      0\n",
      "genres     0\n",
      "dtype: int64\n",
      "userId       0\n",
      "movieId      0\n",
      "rating       0\n",
      "timestamp    0\n",
      "dtype: int64\n"
     ]
    }
   ],
   "source": [
    "# Eksik verileri kontrol etme\n",
    "print(movies.isnull().sum())\n",
    "print(ratings.isnull().sum())\n"
   ]
  },
  {
   "cell_type": "code",
   "execution_count": 4,
   "id": "12a28c40",
   "metadata": {},
   "outputs": [
    {
     "name": "stdout",
     "output_type": "stream",
     "text": [
      "   movieId                               title  \\\n",
      "0        1                    Toy Story (1995)   \n",
      "1        2                      Jumanji (1995)   \n",
      "2        3             Grumpier Old Men (1995)   \n",
      "3        4            Waiting to Exhale (1995)   \n",
      "4        5  Father of the Bride Part II (1995)   \n",
      "\n",
      "                                        genres  \n",
      "0  Adventure|Animation|Children|Comedy|Fantasy  \n",
      "1                   Adventure|Children|Fantasy  \n",
      "2                               Comedy|Romance  \n",
      "3                         Comedy|Drama|Romance  \n",
      "4                                       Comedy  \n",
      "   userId  movieId  rating            timestamp\n",
      "0       1        2     3.5  2005-04-02 23:53:47\n",
      "1       1       29     3.5  2005-04-02 23:31:16\n",
      "2       1       32     3.5  2005-04-02 23:33:39\n",
      "3       1       47     3.5  2005-04-02 23:32:07\n",
      "4       1       50     3.5  2005-04-02 23:29:40\n",
      "<class 'pandas.core.frame.DataFrame'>\n",
      "RangeIndex: 27278 entries, 0 to 27277\n",
      "Data columns (total 3 columns):\n",
      " #   Column   Non-Null Count  Dtype \n",
      "---  ------   --------------  ----- \n",
      " 0   movieId  27278 non-null  int64 \n",
      " 1   title    27278 non-null  object\n",
      " 2   genres   27278 non-null  object\n",
      "dtypes: int64(1), object(2)\n",
      "memory usage: 639.5+ KB\n",
      "None\n",
      "<class 'pandas.core.frame.DataFrame'>\n",
      "RangeIndex: 20000263 entries, 0 to 20000262\n",
      "Data columns (total 4 columns):\n",
      " #   Column     Dtype  \n",
      "---  ------     -----  \n",
      " 0   userId     int64  \n",
      " 1   movieId    int64  \n",
      " 2   rating     float64\n",
      " 3   timestamp  object \n",
      "dtypes: float64(1), int64(2), object(1)\n",
      "memory usage: 610.4+ MB\n",
      "None\n"
     ]
    }
   ],
   "source": [
    "# İlk birkaç satırı görüntüleyerek veri setine göz atma\n",
    "print(movies.head())\n",
    "print(ratings.head())\n",
    "\n",
    "# Veri setindeki sütunların türlerini ve genel bilgileri görüntüleme\n",
    "print(movies.info())\n",
    "print(ratings.info())\n"
   ]
  },
  {
   "cell_type": "code",
   "execution_count": 5,
   "id": "27a1f1d1",
   "metadata": {},
   "outputs": [
    {
     "name": "stdout",
     "output_type": "stream",
     "text": [
      "             userId       movieId        rating\n",
      "count  2.000026e+07  2.000026e+07  2.000026e+07\n",
      "mean   6.904587e+04  9.041567e+03  3.525529e+00\n",
      "std    4.003863e+04  1.978948e+04  1.051989e+00\n",
      "min    1.000000e+00  1.000000e+00  5.000000e-01\n",
      "25%    3.439500e+04  9.020000e+02  3.000000e+00\n",
      "50%    6.914100e+04  2.167000e+03  3.500000e+00\n",
      "75%    1.036370e+05  4.770000e+03  4.000000e+00\n",
      "max    1.384930e+05  1.312620e+05  5.000000e+00\n"
     ]
    }
   ],
   "source": [
    "# Sayısal sütunların temel istatistiksel analizini yapma\n",
    "print(ratings.describe())\n"
   ]
  },
  {
   "cell_type": "code",
   "execution_count": 6,
   "id": "3f062d68",
   "metadata": {},
   "outputs": [
    {
     "name": "stdout",
     "output_type": "stream",
     "text": [
      "Benzersiz film sayısı: 27278\n",
      "Benzersiz kullanıcı sayısı: 138493\n"
     ]
    }
   ],
   "source": [
    "# Kaç benzersiz film ve kullanıcı olduğunu hesaplama\n",
    "unique_movies = movies['movieId'].nunique()\n",
    "unique_users = ratings['userId'].nunique()\n",
    "\n",
    "print(f\"Benzersiz film sayısı: {unique_movies}\")\n",
    "print(f\"Benzersiz kullanıcı sayısı: {unique_users}\")\n"
   ]
  },
  {
   "cell_type": "code",
   "execution_count": 7,
   "id": "91718eae",
   "metadata": {},
   "outputs": [
    {
     "name": "stdout",
     "output_type": "stream",
     "text": [
      "TF-IDF matris boyutu: (27278, 23)\n"
     ]
    }
   ],
   "source": [
    "from sklearn.feature_extraction.text import TfidfVectorizer\n",
    "\n",
    "# TF-IDF vektörleştirici oluşturma (Tür bazlı)\n",
    "tfidf = TfidfVectorizer(stop_words='english')\n",
    "\n",
    "# 'genres' sütunundaki veriyi kullanarak TF-IDF matrisini oluşturma\n",
    "tfidf_matrix = tfidf.fit_transform(movies['genres'])\n",
    "\n",
    "print(f\"TF-IDF matris boyutu: {tfidf_matrix.shape}\")\n"
   ]
  },
  {
   "cell_type": "code",
   "execution_count": 8,
   "id": "8a2dbb56",
   "metadata": {},
   "outputs": [
    {
     "name": "stdout",
     "output_type": "stream",
     "text": [
      "İlk filmle en benzer 10 film:\n",
      "Film ID: 2294, Başlık: Antz (1998), Benzerlik: 1.0000000000000002\n",
      "Film ID: 3114, Başlık: Toy Story 2 (1999), Benzerlik: 1.0000000000000002\n",
      "Film ID: 3754, Başlık: Adventures of Rocky and Bullwinkle, The (2000), Benzerlik: 1.0000000000000002\n",
      "Film ID: 4016, Başlık: Emperor's New Groove, The (2000), Benzerlik: 1.0000000000000002\n",
      "Film ID: 4886, Başlık: Monsters, Inc. (2001), Benzerlik: 1.0000000000000002\n",
      "Film ID: 33463, Başlık: DuckTales: The Movie - Treasure of the Lost Lamp (1990), Benzerlik: 1.0000000000000002\n",
      "Film ID: 45074, Başlık: Wild, The (2006), Benzerlik: 1.0000000000000002\n",
      "Film ID: 53121, Başlık: Shrek the Third (2007), Benzerlik: 1.0000000000000002\n",
      "Film ID: 65577, Başlık: Tale of Despereaux, The (2008), Benzerlik: 1.0000000000000002\n",
      "Film ID: 91355, Başlık: Asterix and the Vikings (Astérix et les Vikings) (2006), Benzerlik: 1.0000000000000002\n"
     ]
    }
   ],
   "source": [
    "from sklearn.metrics.pairwise import cosine_similarity\n",
    "\n",
    "# Cosine similarity kullanarak benzerlik matrisini oluşturma\n",
    "cosine_sim = cosine_similarity(tfidf_matrix, tfidf_matrix)\n",
    "\n",
    "# Örneğin, ilk filmle en benzer filmleri bulma\n",
    "similar_movies = list(enumerate(cosine_sim[0]))\n",
    "similar_movies = sorted(similar_movies, key=lambda x: x[1], reverse=True)\n",
    "\n",
    "# İlk filmle en benzer 10 filmi görüntüleme\n",
    "print(\"İlk filmle en benzer 10 film:\")\n",
    "for i in similar_movies[1:11]:\n",
    "    print(f\"Film ID: {movies.iloc[i[0]]['movieId']}, Başlık: {movies.iloc[i[0]]['title']}, Benzerlik: {i[1]}\")\n"
   ]
  },
  {
   "cell_type": "code",
   "execution_count": 9,
   "id": "e0d983a4",
   "metadata": {},
   "outputs": [
    {
     "name": "stdout",
     "output_type": "stream",
     "text": [
      "                                                   title  \\\n",
      "2209                                         Antz (1998)   \n",
      "3027                                  Toy Story 2 (1999)   \n",
      "3663      Adventures of Rocky and Bullwinkle, The (2000)   \n",
      "3922                    Emperor's New Groove, The (2000)   \n",
      "4790                               Monsters, Inc. (2001)   \n",
      "10114  DuckTales: The Movie - Treasure of the Lost La...   \n",
      "10987                                   Wild, The (2006)   \n",
      "11871                             Shrek the Third (2007)   \n",
      "13337                     Tale of Despereaux, The (2008)   \n",
      "18274  Asterix and the Vikings (Astérix et les Viking...   \n",
      "\n",
      "                                            genres  \n",
      "2209   Adventure|Animation|Children|Comedy|Fantasy  \n",
      "3027   Adventure|Animation|Children|Comedy|Fantasy  \n",
      "3663   Adventure|Animation|Children|Comedy|Fantasy  \n",
      "3922   Adventure|Animation|Children|Comedy|Fantasy  \n",
      "4790   Adventure|Animation|Children|Comedy|Fantasy  \n",
      "10114  Adventure|Animation|Children|Comedy|Fantasy  \n",
      "10987  Adventure|Animation|Children|Comedy|Fantasy  \n",
      "11871  Adventure|Animation|Children|Comedy|Fantasy  \n",
      "13337  Adventure|Animation|Children|Comedy|Fantasy  \n",
      "18274  Adventure|Animation|Children|Comedy|Fantasy  \n"
     ]
    }
   ],
   "source": [
    "def get_recommendations(title, movies, cosine_sim):\n",
    "    # Filmin indeksini bulma\n",
    "    idx = movies[movies['title'].str.contains(title, case=False, na=False)].index[0]\n",
    "    \n",
    "    # Filmin benzerlik puanlarını içeren listeyi alma\n",
    "    sim_scores = list(enumerate(cosine_sim[idx]))\n",
    "    \n",
    "    # Benzerlik puanlarına göre filmleri sırala\n",
    "    sim_scores = sorted(sim_scores, key=lambda x: x[1], reverse=True)\n",
    "    \n",
    "    # İlk filmi (kendisi) atla ve en benzer 10 filmi al\n",
    "    sim_scores = sim_scores[1:11]\n",
    "    \n",
    "    # Bu filmlerin indekslerini al\n",
    "    movie_indices = [i[0] for i in sim_scores]\n",
    "    \n",
    "    # Bu filmlerin başlıklarını döndür\n",
    "    return movies.iloc[movie_indices][['title', 'genres']]\n",
    "\n",
    "# Örneğin, \"Toy Story\" filmi için öneriler alalım\n",
    "recommendations = get_recommendations(\"Toy Story\", movies, cosine_sim)\n",
    "print(recommendations)\n"
   ]
  },
  {
   "cell_type": "code",
   "execution_count": 10,
   "id": "6ac34ed2",
   "metadata": {},
   "outputs": [
    {
     "name": "stdout",
     "output_type": "stream",
     "text": [
      "RMSE: 0.7862\n",
      "RMSE: 0.7862384298267552\n"
     ]
    }
   ],
   "source": [
    "from surprise import SVD, Dataset, Reader\n",
    "from surprise.model_selection import train_test_split\n",
    "from surprise import accuracy\n",
    "\n",
    "# Puanlar veri setini Surprise kütüphanesi için hazırlama\n",
    "reader = Reader(rating_scale=(0.5, 5.0))\n",
    "data = Dataset.load_from_df(ratings[['userId', 'movieId', 'rating']], reader)\n",
    "\n",
    "# Veri setini eğitim ve test seti olarak ayırma\n",
    "trainset, testset = train_test_split(data, test_size=0.2)\n",
    "\n",
    "# SVD modeli oluşturma ve eğitme\n",
    "model = SVD()\n",
    "model.fit(trainset)\n",
    "\n",
    "# Test setinde tahminler yapma\n",
    "predictions = model.test(testset)\n",
    "\n",
    "# Modelin performansını değerlendirme (RMSE)\n",
    "rmse = accuracy.rmse(predictions)\n",
    "print(f\"RMSE: {rmse}\")\n"
   ]
  },
  {
   "cell_type": "code",
   "execution_count": 11,
   "id": "0cd8a57c",
   "metadata": {
    "scrolled": true
   },
   "outputs": [
    {
     "name": "stdout",
     "output_type": "stream",
     "text": [
      "Processing epoch 0\n",
      "Processing epoch 1\n",
      "Processing epoch 2\n",
      "Processing epoch 3\n",
      "Processing epoch 4\n",
      "Processing epoch 5\n",
      "Processing epoch 6\n",
      "Processing epoch 7\n",
      "Processing epoch 8\n",
      "Processing epoch 9\n",
      "Processing epoch 10\n",
      "Processing epoch 11\n",
      "Processing epoch 12\n",
      "Processing epoch 13\n",
      "Processing epoch 14\n",
      "Processing epoch 15\n",
      "Processing epoch 16\n",
      "Processing epoch 17\n",
      "Processing epoch 18\n",
      "Processing epoch 19\n"
     ]
    },
    {
     "data": {
      "text/plain": [
       "<surprise.prediction_algorithms.matrix_factorization.SVD at 0x362df0bd0>"
      ]
     },
     "execution_count": 11,
     "metadata": {},
     "output_type": "execute_result"
    }
   ],
   "source": [
    "# SVD modeli oluşturma ve eğitme (verbose=True ile eğitim durumunu izleyebilirsiniz)\n",
    "model = SVD(verbose=True)\n",
    "model.fit(trainset)\n"
   ]
  },
  {
   "cell_type": "code",
   "execution_count": 12,
   "id": "b9a139d9",
   "metadata": {},
   "outputs": [
    {
     "name": "stdout",
     "output_type": "stream",
     "text": [
      "RMSE: 0.9582\n",
      "RMSE: 0.9582332410330945\n"
     ]
    }
   ],
   "source": [
    "# Puanlar veri setinden küçük bir alt küme oluşturma\n",
    "ratings_small = ratings.sample(100000, random_state=42)  # Belirli bir alt küme alıyoruz (100.000 satır)\n",
    "\n",
    "# Puanlar veri setini Surprise kütüphanesi için hazırlama\n",
    "data = Dataset.load_from_df(ratings_small[['userId', 'movieId', 'rating']], reader)\n",
    "\n",
    "# Veri setini eğitim ve test seti olarak ayırma\n",
    "trainset, testset = train_test_split(data, test_size=0.2)\n",
    "\n",
    "# SVD modeli oluşturma ve eğitme\n",
    "model = SVD()\n",
    "model.fit(trainset)\n",
    "\n",
    "# Test setinde tahminler yapma\n",
    "predictions = model.test(testset)\n",
    "\n",
    "# Modelin performansını değerlendirme (RMSE)\n",
    "rmse = accuracy.rmse(predictions)\n",
    "print(f\"RMSE: {rmse}\")\n"
   ]
  },
  {
   "cell_type": "code",
   "execution_count": 13,
   "id": "39cbbabf",
   "metadata": {},
   "outputs": [
    {
     "name": "stdout",
     "output_type": "stream",
     "text": [
      "                                                   title  \\\n",
      "49                            Usual Suspects, The (1995)   \n",
      "257            Star Wars: Episode IV - A New Hope (1977)   \n",
      "315                     Shawshank Redemption, The (1994)   \n",
      "523                              Schindler's List (1993)   \n",
      "737    Dr. Strangelove or: How I Learned to Stop Worr...   \n",
      "843                                Godfather, The (1972)   \n",
      "1149      Cinema Paradiso (Nuovo cinema Paradiso) (1989)   \n",
      "1171   Star Wars: Episode V - The Empire Strikes Back...   \n",
      "4877   Amelie (Fabuleux destin d'Amélie Poulain, Le) ...   \n",
      "15534                                   Inception (2010)   \n",
      "\n",
      "                                                genres  \n",
      "49                              Crime|Mystery|Thriller  \n",
      "257                            Action|Adventure|Sci-Fi  \n",
      "315                                        Crime|Drama  \n",
      "523                                          Drama|War  \n",
      "737                                         Comedy|War  \n",
      "843                                        Crime|Drama  \n",
      "1149                                             Drama  \n",
      "1171                           Action|Adventure|Sci-Fi  \n",
      "4877                                    Comedy|Romance  \n",
      "15534  Action|Crime|Drama|Mystery|Sci-Fi|Thriller|IMAX  \n"
     ]
    }
   ],
   "source": [
    "def get_user_recommendations(user_id, model, movies, ratings, num_recommendations=10):\n",
    "    # Kullanıcının daha önce puan verdiği filmleri alalım\n",
    "    watched_movies = ratings[ratings['userId'] == user_id]['movieId'].tolist()\n",
    "    \n",
    "    # Kullanıcının henüz puanlamadığı filmleri bulma\n",
    "    all_movies = movies['movieId'].tolist()\n",
    "    unseen_movies = [movie for movie in all_movies if movie not in watched_movies]\n",
    "    \n",
    "    # Henüz puanlanmamış filmler için tahmin yapma\n",
    "    predictions = [model.predict(user_id, movie_id) for movie_id in unseen_movies]\n",
    "    \n",
    "    # Tahminleri puanlara göre sırala\n",
    "    predictions = sorted(predictions, key=lambda x: x.est, reverse=True)\n",
    "    \n",
    "    # En iyi tahmin edilen filmleri al ve başlıklarını döndür\n",
    "    top_predictions = predictions[:num_recommendations]\n",
    "    recommended_movie_ids = [pred.iid for pred in top_predictions]\n",
    "    \n",
    "    return movies[movies['movieId'].isin(recommended_movie_ids)][['title', 'genres']]\n",
    "\n",
    "# Örneğin, kullanıcı ID 1 için öneriler alalım\n",
    "user_recommendations = get_user_recommendations(user_id=1, model=model, movies=movies, ratings=ratings_small)\n",
    "print(user_recommendations)\n"
   ]
  },
  {
   "cell_type": "code",
   "execution_count": null,
   "id": "74e67dd7",
   "metadata": {},
   "outputs": [],
   "source": []
  }
 ],
 "metadata": {
  "kernelspec": {
   "display_name": "Python 3 (ipykernel)",
   "language": "python",
   "name": "python3"
  },
  "language_info": {
   "codemirror_mode": {
    "name": "ipython",
    "version": 3
   },
   "file_extension": ".py",
   "mimetype": "text/x-python",
   "name": "python",
   "nbconvert_exporter": "python",
   "pygments_lexer": "ipython3",
   "version": "3.11.4"
  }
 },
 "nbformat": 4,
 "nbformat_minor": 5
}
